{
 "cells": [
  {
   "cell_type": "code",
   "execution_count": 40,
   "metadata": {},
   "outputs": [],
   "source": [
    "file = open('grammar.txt','r')\n",
    "grammar = file.read()\n",
    "file.close()"
   ]
  },
  {
   "cell_type": "code",
   "execution_count": 41,
   "metadata": {},
   "outputs": [],
   "source": [
    "def derive(arr1, arr2, dic):\n",
    "    ans = []\n",
    "    if len(arr1) == 0:\n",
    "        for a2 in arr2:\n",
    "            if a2 in dic.keys():\n",
    "                for a in dic[a2]:\n",
    "                    ans.append(a)\n",
    "    elif len(arr2) == 0:\n",
    "        for a1 in arr1:\n",
    "            if a1 in dic.keys():\n",
    "                for a in dic[a1]:\n",
    "                    ans.append(a)\n",
    "    else:\n",
    "        for a1 in arr1:\n",
    "            for a2 in arr2:\n",
    "                aux = a1 + a2\n",
    "                if aux in dic.keys():\n",
    "                    for a in dic[aux]:\n",
    "                        ans.append(a)\n",
    "    return ans\n",
    "\n",
    "\n",
    "def get_grammar(grammar):\n",
    "    aux = grammar.split('\\n')\n",
    "    left = []\n",
    "    right = []\n",
    "    for i in aux:\n",
    "        aux1 = i.split(' => ')\n",
    "        left.append(aux1[0])\n",
    "        right.append(aux1[1])\n",
    "    aux1 = []\n",
    "    for i in range(len(right)):\n",
    "        aux1.append(right[i].split(' | '))\n",
    "    dic = {}\n",
    "    for i in range(len(aux1)):\n",
    "        for k in aux1[i]:\n",
    "            if k in dic.keys():\n",
    "                if left[i] not in dic[k]:\n",
    "                    dic[k].append(left[i])\n",
    "            else:\n",
    "                dic[k] = [left[i]]\n",
    "    return dic\n",
    "\n",
    "def cyk(word, grammar=grammar):\n",
    "    \n",
    "    dic = get_grammar(grammar)\n",
    "    \n",
    "    tree = []\n",
    "    line = []\n",
    "    for car in word:\n",
    "        line.append(dic[car])\n",
    "    tree.append(line)\n",
    "\n",
    "    for h in range(1,len(word)):\n",
    "        line = []\n",
    "        for x in range(0,len(word) - h):\n",
    "            subline = []\n",
    "            for y in range(h):\n",
    "                for d in derive(tree[y][x],tree[h - y - 1][x + 1 + y],dic):\n",
    "                    subline.append(d)\n",
    "            line.append(subline)\n",
    "        tree.append(line)\n",
    "    \n",
    "    return tree\n"
   ]
  },
  {
   "cell_type": "code",
   "execution_count": 43,
   "metadata": {},
   "outputs": [
    {
     "name": "stdout",
     "output_type": "stream",
     "text": [
      "[['A'], ['A'], ['A'], ['B'], ['B'], ['B']]\n",
      "[[], [], ['S'], [], []]\n",
      "[[], ['X'], [], []]\n",
      "[[], ['S'], []]\n",
      "[['X'], []]\n",
      "[['S']]\n"
     ]
    }
   ],
   "source": [
    "palavra_teste = 'aaabbb' \n",
    "for x in cyk(palavra_teste):\n",
    "    print(x)"
   ]
  }
 ],
 "metadata": {
  "kernelspec": {
   "display_name": "Python 3",
   "language": "python",
   "name": "python3"
  },
  "language_info": {
   "codemirror_mode": {
    "name": "ipython",
    "version": 3
   },
   "file_extension": ".py",
   "mimetype": "text/x-python",
   "name": "python",
   "nbconvert_exporter": "python",
   "pygments_lexer": "ipython3",
   "version": "3.7.3"
  }
 },
 "nbformat": 4,
 "nbformat_minor": 2
}
